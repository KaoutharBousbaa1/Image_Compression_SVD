{
 "cells": [
  {
   "cell_type": "markdown",
   "id": "211f40b8-3d81-4eba-8f77-26f946993870",
   "metadata": {},
   "source": [
    "# Analyse de Données\n",
    "## Mini Projet SVD avec  Numpy"
   ]
  },
  {
   "cell_type": "markdown",
   "id": "661efee4-cef6-4ef0-b146-e6c963f12c72",
   "metadata": {},
   "source": [
    "### Réalisée par: Kaouthar BOUSBAA"
   ]
  },
  {
   "cell_type": "markdown",
   "id": "934ab4b0-088c-4ca0-b345-1f1645ef6edf",
   "metadata": {},
   "source": [
    "#### Partie I: Compression d'une image en noir et blanc:"
   ]
  },
  {
   "cell_type": "code",
   "execution_count": 1,
   "id": "f6f118db-69b1-493c-b7df-343eadb56aef",
   "metadata": {},
   "outputs": [],
   "source": [
    "import numpy as np\n",
    "from matplotlib.image import imread\n",
    "import matplotlib.pyplot as plt\n",
    "import os\n",
    "plt.rcParams['figure.figsize'] = [12, 4]"
   ]
  },
  {
   "cell_type": "markdown",
   "id": "3f4b25f1-8711-46c1-b340-60c492f4cd45",
   "metadata": {},
   "source": [
    "On a une matrice M, et on la décompose en M = U.Sigma.VT et ce que nous pourrions \n",
    "faire est d'approximer cette matrice par un rang inférieur \"r\", et de cette façon nous approximerons l'image.\n",
    "M est une image à deux dimensions, on va approximer cette image comme le produit de quelques colonnes et lignes (pixels).\n",
    "Et ce serait une compression car au lieu de stocker toutes ces n lignes m colonnes, je n'ai plus qu'à stocker r."
   ]
  }
 ],
 "metadata": {
  "kernelspec": {
   "display_name": "Python 3",
   "language": "python",
   "name": "python3"
  },
  "language_info": {
   "codemirror_mode": {
    "name": "ipython",
    "version": 3
   },
   "file_extension": ".py",
   "mimetype": "text/x-python",
   "name": "python",
   "nbconvert_exporter": "python",
   "pygments_lexer": "ipython3",
   "version": "3.7.8"
  }
 },
 "nbformat": 4,
 "nbformat_minor": 5
}
